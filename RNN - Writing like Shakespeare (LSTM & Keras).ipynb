{
 "cells": [
  {
   "cell_type": "markdown",
   "metadata": {},
   "source": [
    "# Writing like Shakespeare\n",
    "Use LSTM & Keras\n",
    "- Obtain local input data\n",
    "- Prepare training data\n",
    "- Load the trained model\n",
    "- Train the uploaded model with new input data (just one epoch)\n",
    "- Predict with newly trained model"
   ]
  },
  {
   "cell_type": "code",
   "execution_count": 1,
   "metadata": {},
   "outputs": [
    {
     "name": "stderr",
     "output_type": "stream",
     "text": [
      "Using TensorFlow backend.\n"
     ]
    }
   ],
   "source": [
    "### Import modules and functions\n",
    "from __future__ import print_function\n",
    "from keras.callbacks import LambdaCallback\n",
    "from keras.models import Model, load_model, Sequential\n",
    "from keras.layers import Dense, Activation, Dropout, Input, Masking\n",
    "from keras.layers import LSTM\n",
    "from keras.utils.data_utils import get_file\n",
    "from keras.preprocessing.sequence import pad_sequences\n",
    "import numpy as np\n",
    "import random\n",
    "import sys\n",
    "import io"
   ]
  },
  {
   "cell_type": "code",
   "execution_count": 2,
   "metadata": {},
   "outputs": [],
   "source": [
    "### Load text data from local drive\n",
    "text = io.open('data/shakespeare.txt', encoding='utf-8').read().lower()"
   ]
  },
  {
   "cell_type": "code",
   "execution_count": 3,
   "metadata": {
    "collapsed": true
   },
   "outputs": [],
   "source": [
    "### Prepare data\n",
    "Tx = 40  #Sequence length for each training exmple\n",
    "chars = sorted(list(set(text)))\n",
    "char_indices = dict((c, i) for i, c in enumerate(chars))\n",
    "indices_char = dict((i, c) for i, c in enumerate(chars))\n",
    "#print('number of unique characters in the corpus:', len(chars))"
   ]
  },
  {
   "cell_type": "code",
   "execution_count": 4,
   "metadata": {},
   "outputs": [
    {
     "name": "stdout",
     "output_type": "stream",
     "text": [
      "number of training examples: 31412\n"
     ]
    }
   ],
   "source": [
    "### Create Training data\n",
    "X = [] # list of sentence of 40 characters\n",
    "Y = [] # next charater of each sentence\n",
    "   \n",
    "for i in range(0, len(text) - Tx, 3):\n",
    "    X.append(text[i: i + Tx])\n",
    "    Y.append(text[i + Tx])\n",
    "\n",
    "print('number of training examples:', len(X))"
   ]
  },
  {
   "cell_type": "code",
   "execution_count": 5,
   "metadata": {},
   "outputs": [],
   "source": [
    "### Vectorization of Training data \n",
    "m = len(X)\n",
    "n_x = len(chars)\n",
    "x = np.zeros((m, Tx, n_x), dtype=np.bool) # contains False or True\n",
    "y = np.zeros((m, n_x), dtype=np.bool) # contains False or True\n",
    "for i, sentence in enumerate(X):\n",
    "    for t, char in enumerate(sentence):\n",
    "        x[i, t, char_indices[char]] = 1\n",
    "    y[i, char_indices[Y[i]]] = 1\n",
    "        "
   ]
  },
  {
   "cell_type": "code",
   "execution_count": 6,
   "metadata": {},
   "outputs": [],
   "source": [
    "### Load Model \n",
    "model = load_model('models/model_shakespeare_kiank_350_epoch.h5')"
   ]
  },
  {
   "cell_type": "code",
   "execution_count": 7,
   "metadata": {},
   "outputs": [
    {
     "data": {
      "text/plain": [
       "<bound method Container.summary of <keras.engine.training.Model object at 0x000001A46B1CA2E8>>"
      ]
     },
     "execution_count": 7,
     "metadata": {},
     "output_type": "execute_result"
    }
   ],
   "source": [
    "model.summary"
   ]
  },
  {
   "cell_type": "code",
   "execution_count": null,
   "metadata": {
    "scrolled": true
   },
   "outputs": [
    {
     "name": "stdout",
     "output_type": "stream",
     "text": [
      "Epoch 1/1\n",
      "31412/31412 [==============================] - 128s 4ms/step - loss: 2.5519\n"
     ]
    },
    {
     "data": {
      "text/plain": [
       "<keras.callbacks.History at 0x1a46b1ca860>"
      ]
     },
     "execution_count": 8,
     "metadata": {},
     "output_type": "execute_result"
    }
   ],
   "source": [
    "### Train model just one more epoch with the current data \n",
    "model.fit(x, y, batch_size=128, epochs=1)"
   ]
  },
  {
   "cell_type": "code",
   "execution_count": null,
   "metadata": {},
   "outputs": [],
   "source": [
    "### Obtain input\n",
    "generated = ''\n",
    "\n",
    "usr_input = input(\"Write the beginning of your poem, the Shakespeare machine will complete it. Your input is: \")\n",
    "# zero pad the sentence to Tx characters.\n",
    "sents = ('{0:0>' + str(Tx) + '}').format(usr_input).lower()\n",
    "generated += usr_input "
   ]
  },
  {
   "cell_type": "code",
   "execution_count": null,
   "metadata": {},
   "outputs": [],
   "source": [
    "### Print predicted text from input\n",
    "sys.stdout.write(\"\\n\\nHere is your poem: \\n\\n\") \n",
    "sys.stdout.write(usr_input)\n",
    "for i in range(400):\n",
    "\n",
    "    ## Prepare input data\n",
    "    x_pred = np.zeros((1, Tx, len(chars))) #input characters\n",
    "    for t, char in enumerate(sents):\n",
    "        if char != '0':\n",
    "            x_pred[0, t, char_indices[char]] = 1.\n",
    "\n",
    "    ## Predict with the trained model and input data\n",
    "    preds = model.predict(x_pred, verbose=0)[0]\n",
    "    \n",
    "    # helper function to sample an index from a probability array\n",
    "    temperature=1.0\n",
    "    preds = np.asarray(preds).astype('float64')\n",
    "    preds = np.log(preds) / temperature\n",
    "    exp_preds = np.exp(preds)\n",
    "    preds = exp_preds / np.sum(exp_preds)\n",
    "    probas = np.random.multinomial(1, preds, 1) # distribute \"preds\" propotionally so sum(preds)= 1\n",
    "    # pick next char based on prob\n",
    "    next_index = np.random.choice(range(len(chars)), p = probas.ravel())n \n",
    "    next_char = indices_char[next_index] # character \n",
    "\n",
    "    generated += next_char\n",
    "    sents = sents[1:] + next_char # add next character in the current sentence - 1 character (always 40 long)\n",
    "\n",
    "    ## printout next character\n",
    "    sys.stdout.write(next_char) \n",
    "    sys.stdout.flush()\n",
    "    if next_char == '\\n':\n",
    "        continue"
   ]
  }
 ],
 "metadata": {
  "coursera": {
   "course_slug": "nlp-sequence-models",
   "graded_item_id": "1dYg0",
   "launcher_item_id": "MLhxP"
  },
  "kernelspec": {
   "display_name": "Python 3",
   "language": "python",
   "name": "python3"
  },
  "language_info": {
   "codemirror_mode": {
    "name": "ipython",
    "version": 3
   },
   "file_extension": ".py",
   "mimetype": "text/x-python",
   "name": "python",
   "nbconvert_exporter": "python",
   "pygments_lexer": "ipython3",
   "version": "3.6.3"
  }
 },
 "nbformat": 4,
 "nbformat_minor": 2
}
